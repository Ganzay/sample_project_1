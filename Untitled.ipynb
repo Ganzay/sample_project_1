{
 "cells": [
  {
   "cell_type": "code",
   "execution_count": 51,
   "id": "b8a5012a-3bf9-4d6b-9688-a7598ff80800",
   "metadata": {},
   "outputs": [],
   "source": [
    " import pandas as pd"
   ]
  },
  {
   "cell_type": "code",
   "execution_count": 52,
   "id": "8e277f5b-a0e9-4825-b757-22576d05108a",
   "metadata": {},
   "outputs": [],
   "source": [
    "foods = pd.Series(['Rice', 'Beans', 'Yam', 'Plantain', 'Bread', 'Fish', 'Chicken', 'Egg', 'Milk', 'Banana'])"
   ]
  },
  {
   "cell_type": "code",
   "execution_count": 53,
   "id": "6becb884-e905-47c0-8a5b-bf9804b000c1",
   "metadata": {},
   "outputs": [
    {
     "data": {
      "text/plain": [
       "0        Rice\n",
       "1       Beans\n",
       "2         Yam\n",
       "3    Plantain\n",
       "4       Bread\n",
       "5        Fish\n",
       "6     Chicken\n",
       "7         Egg\n",
       "8        Milk\n",
       "9      Banana\n",
       "dtype: object"
      ]
     },
     "execution_count": 53,
     "metadata": {},
     "output_type": "execute_result"
    }
   ],
   "source": [
    "foods"
   ]
  },
  {
   "cell_type": "code",
   "execution_count": 54,
   "id": "fa10da42-579c-4179-95f0-ec8d4d446caf",
   "metadata": {},
   "outputs": [],
   "source": [
    "prices = pd.Series([500, 300, 700, 600, 400, 1000, 1500, 50, 200, 100])"
   ]
  },
  {
   "cell_type": "code",
   "execution_count": 55,
   "id": "0355a574-f2df-42ba-9186-64d8b90e4422",
   "metadata": {},
   "outputs": [
    {
     "data": {
      "text/plain": [
       "0     500\n",
       "1     300\n",
       "2     700\n",
       "3     600\n",
       "4     400\n",
       "5    1000\n",
       "6    1500\n",
       "7      50\n",
       "8     200\n",
       "9     100\n",
       "dtype: int64"
      ]
     },
     "execution_count": 55,
     "metadata": {},
     "output_type": "execute_result"
    }
   ],
   "source": [
    "prices"
   ]
  },
  {
   "cell_type": "code",
   "execution_count": 56,
   "id": "ec250e30-2f02-426f-bad7-24c5bfdc6b81",
   "metadata": {},
   "outputs": [],
   "source": [
    "food_prices_df = pd.DataFrame({'Food': foods,'Price (Naira)': prices})"
   ]
  },
  {
   "cell_type": "code",
   "execution_count": 57,
   "id": "95fb421a-cd71-4794-8314-19968af32d00",
   "metadata": {},
   "outputs": [
    {
     "name": "stdout",
     "output_type": "stream",
     "text": [
      "       Food  Price (Naira)\n",
      "0      Rice            500\n",
      "1     Beans            300\n",
      "2       Yam            700\n",
      "3  Plantain            600\n",
      "4     Bread            400\n",
      "5      Fish           1000\n",
      "6   Chicken           1500\n",
      "7       Egg             50\n",
      "8      Milk            200\n",
      "9    Banana            100\n"
     ]
    }
   ],
   "source": [
    "print(food_prices_df)"
   ]
  },
  {
   "cell_type": "code",
   "execution_count": null,
   "id": "89b98e92-14e1-4b96-ae8c-239f1e867bed",
   "metadata": {},
   "outputs": [],
   "source": []
  },
  {
   "cell_type": "code",
   "execution_count": null,
   "id": "68b5acd9-cb4c-476a-b1cc-582da5e15ae9",
   "metadata": {},
   "outputs": [],
   "source": []
  }
 ],
 "metadata": {
  "kernelspec": {
   "display_name": "Python 3 (ipykernel)",
   "language": "python",
   "name": "python3"
  },
  "language_info": {
   "codemirror_mode": {
    "name": "ipython",
    "version": 3
   },
   "file_extension": ".py",
   "mimetype": "text/x-python",
   "name": "python",
   "nbconvert_exporter": "python",
   "pygments_lexer": "ipython3",
   "version": "3.12.7"
  }
 },
 "nbformat": 4,
 "nbformat_minor": 5
}
